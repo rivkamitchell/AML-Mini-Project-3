{
 "cells": [
  {
   "cell_type": "markdown",
   "metadata": {},
   "source": [
    "Preprocessing: Removing pixels with grayscalse intensity $<250$\n",
    "Model: 4 layers CNN\n",
    "Implementation of early stopping\n",
    "# New: Tuning of learning rate"
   ]
  },
  {
   "cell_type": "code",
   "execution_count": 1,
   "metadata": {
    "collapsed": false
   },
   "outputs": [
    {
     "name": "stderr",
     "output_type": "stream",
     "text": [
      "/home/perreaultlafleur/anaconda3/lib/python3.5/site-packages/requests/__init__.py:83: RequestsDependencyWarning: Old version of cryptography ([1, 3]) may cause slowdown.\n",
      "  warnings.warn(warning, RequestsDependencyWarning)\n",
      "Using TensorFlow backend.\n"
     ]
    }
   ],
   "source": [
    "#IMPORT LIBRARIES\n",
    "import pandas as pd\n",
    "%matplotlib inline\n",
    "from matplotlib import pyplot as plt\n",
    "import numpy as np\n",
    "from PIL import Image\n",
    "import tensorflow as tf\n",
    "from keras.models import Sequential\n",
    "from keras.layers import Dense, Conv2D, Flatten\n",
    "import time\n",
    "import datetime as dt\n",
    "import progressbar\n",
    "\n",
    "import pickle as pkl\n",
    "import torch\n",
    "from __future__ import print_function\n",
    "import argparse\n",
    "import torch.nn as nn\n",
    "import torch.nn.init as init\n",
    "import torch.nn.functional as F\n",
    "from torch.autograd import Variable\n",
    "import torch.optim as optim\n",
    "#import torchvision.models as models\n",
    "#from pytorchtools import EarlyStopping\n",
    "#import torchvision\n",
    "#import torchvision.transforms\n",
    "from torch.autograd import Variable\n",
    "from sklearn.model_selection import train_test_split\n",
    "from sklearn.metrics import accuracy_score, classification_report\n",
    "import torch.utils.data as data_utils"
   ]
  },
  {
   "cell_type": "code",
   "execution_count": 2,
   "metadata": {
    "collapsed": false
   },
   "outputs": [],
   "source": [
    "#IMPORT DATA\n",
    "train_images = pd.read_pickle('train_max_x')\n",
    "train_answers = pd.read_csv('train_max_y.csv')\n",
    "test_images = pd.read_pickle('test_max_x')\n",
    "\n",
    "#Define training, testing and validation datasets\n",
    "X_train = train_images[0:49000]; X_test=train_images[49000:50000]; X_valid=test_images\n",
    "y_train = train_answers.loc[0:48999,'Label']; y_test = train_answers.loc[49000:49999,'Label']\n",
    "\n",
    "#Take out the funky backgrounds\n",
    "X_train = (X_train>=250).astype(float)*255\n",
    "X_test = (X_test>=250).astype(float)*255\n",
    "X_valid = (X_valid>=250).astype(float)*255\n",
    "\n",
    "#Add one dimension so that it can be an input for the NN\n",
    "X_train = X_train.reshape(49000, 1, 128, 128)\n",
    "X_test = X_test.reshape(1000, 1, 128, 128)\n",
    "X_valid = X_valid.reshape(10000, 1, 128, 128)\n",
    "\n",
    "#Change the type from numpy to tensor so that it can be an input for the NN\n",
    "X_train = torch.from_numpy(X_train)\n",
    "X_test = torch.from_numpy(X_test)\n",
    "X_valid = torch.from_numpy(X_valid)\n",
    "\n",
    "#do the same for the target vectors\n",
    "y_train = torch.from_numpy(y_train.to_numpy().reshape(49000))\n",
    "y_test = torch.from_numpy(y_test.to_numpy().reshape(1000))\n",
    "\n",
    "#join the x and y values\n",
    "train = data_utils.TensorDataset(X_train, y_train)\n",
    "test = data_utils.TensorDataset(X_test, y_test)\n",
    "valid = data_utils.TensorDataset(X_valid)\n",
    "\n",
    "#create an iterator that will split the data in batches for training\n",
    "trainloader = torch.utils.data.DataLoader(train, batch_size=64)\n",
    "testloader = torch.utils.data.DataLoader(test, batch_size=64)\n",
    "validloader = torch.utils.data.DataLoader(X_valid, batch_size=64)"
   ]
  },
  {
   "cell_type": "code",
   "execution_count": 3,
   "metadata": {
    "collapsed": false
   },
   "outputs": [],
   "source": [
    "class Classifier(nn.Module):\n",
    "    \"\"\"Convnet Classifier\"\"\"\n",
    "    def __init__(self):\n",
    "        super(Classifier, self).__init__()\n",
    "        self.conv = nn.Sequential(\n",
    "            # Layer 1\n",
    "            nn.Conv2d(in_channels=1, out_channels=64, kernel_size=(3, 3), padding=1),\n",
    "            nn.ReLU(),\n",
    "            nn.Conv2d(in_channels=64, out_channels=64, kernel_size=(3, 3), padding=1),\n",
    "            nn.ReLU(),\n",
    "            nn.MaxPool2d(kernel_size=(2, 2), stride=2),\n",
    "            nn.BatchNorm2d(64),\n",
    "            \n",
    "            # Layer 2\n",
    "            nn.Conv2d(in_channels=64, out_channels=128, kernel_size=(3, 3), padding=1),\n",
    "            nn.ReLU(),\n",
    "            nn.Conv2d(in_channels=128, out_channels=128, kernel_size=(3, 3), padding=1),\n",
    "            nn.ReLU(),\n",
    "            nn.MaxPool2d(kernel_size=(2, 2), stride=2),\n",
    "            nn.BatchNorm2d(128),\n",
    "            \n",
    "            # Layer 3\n",
    "            nn.Conv2d(in_channels=128, out_channels=256, kernel_size=(3, 3), padding=1),\n",
    "            nn.ReLU(),\n",
    "            nn.Conv2d(in_channels=256, out_channels=256, kernel_size=(3, 3), padding=1),\n",
    "            nn.ReLU(),\n",
    "            nn.Conv2d(in_channels=256, out_channels=256, kernel_size=(3, 3), padding=1),\n",
    "            nn.ReLU(),\n",
    "            nn.MaxPool2d(kernel_size=(2, 2), stride=2),\n",
    "            nn.BatchNorm2d(256),\n",
    "            \n",
    "            # Layer 4\n",
    "            nn.Conv2d(in_channels=256, out_channels=512, kernel_size=(3, 3), padding=1),\n",
    "            nn.ReLU(),\n",
    "            nn.Conv2d(in_channels=512, out_channels=512, kernel_size=(3, 3), padding=1),\n",
    "            nn.ReLU(),\n",
    "            nn.Conv2d(in_channels=512, out_channels=512, kernel_size=(3, 3), padding=1),\n",
    "            nn.ReLU(),\n",
    "            nn.MaxPool2d(kernel_size=(2, 2), stride=2),\n",
    "            nn.BatchNorm2d(512),\n",
    "            \n",
    "            # Layer 5\n",
    "            nn.Conv2d(in_channels=512, out_channels=512, kernel_size=(3, 3), padding=1),\n",
    "            nn.ReLU(),\n",
    "            nn.Conv2d(in_channels=512, out_channels=512, kernel_size=(3, 3), padding=1),\n",
    "            nn.ReLU(),\n",
    "            nn.Conv2d(in_channels=512, out_channels=512, kernel_size=(3, 3), padding=1),\n",
    "            nn.ReLU(),\n",
    "            nn.MaxPool2d(kernel_size=(2, 2), stride=2),\n",
    "            nn.BatchNorm2d(512),\n",
    "        )\n",
    "        # Logistic Regression\n",
    "        self.clf = nn.Sequential(\n",
    "            nn.Linear(8192, 4096),#nn.Linear(8192, 10),\n",
    "            nn.Linear(4096, 4096),\n",
    "            nn.Linear(4096, 10),\n",
    "        )\n",
    "\n",
    "    def forward(self, x):\n",
    "        #print(self.conv(x).squeeze().reshape(64,-1).shape)\n",
    "        out = self.conv(x)\n",
    "        return self.clf(out.reshape(out.size(0), -1))\n",
    "        #return self.clf(self.conv(x))"
   ]
  },
  {
   "cell_type": "code",
   "execution_count": null,
   "metadata": {
    "collapsed": false
   },
   "outputs": [
    {
     "name": "stdout",
     "output_type": "stream",
     "text": [
      "|||||"
     ]
    }
   ],
   "source": [
    "lr_valid_acc=[]\n",
    "lr_train_loss=[]\n",
    "lr_valid_loss=[]\n",
    "\n",
    "clf = Classifier()\n",
    "optimizer = torch.optim.Adam(clf.parameters(), lr=5e-8)\n",
    "criterion = nn.CrossEntropyLoss()\n",
    "epochs=60\n",
    "time1=dt.datetime.now()\n",
    "\n",
    "#Will print the plots\n",
    "avg_train_losses = []\n",
    "avg_valid_losses = []\n",
    "valid_acc = []\n",
    "index_of_best = 0\n",
    "\n",
    "#Early stopping criterion: when the test accuracy does not improve by at least #epsilon for #patience epochs in a row, we stop\n",
    "patience = 5\n",
    "epsilon = 0.1\n",
    "patience_iterator = 0\n",
    "best_test_acc = 0\n",
    "last_acc = 0\n",
    "stop = False\n",
    "\n",
    "#Training for loop\n",
    "for epoch in range(epochs):\n",
    "    losses = []\n",
    "    # Train\n",
    "    time3=dt.datetime.now()\n",
    "    for batch_idx, (inputs, targets) in enumerate(trainloader):\n",
    "        optimizer.zero_grad()\n",
    "        inputs, targets = Variable(inputs), Variable(targets)\n",
    "        outputs = clf(inputs.float())\n",
    "        loss = criterion(outputs, targets)\n",
    "        loss.backward()\n",
    "        optimizer.step()\n",
    "        losses.append(loss.data)\n",
    "        print('|', end =\"\")\n",
    "        \n",
    "    time4=dt.datetime.now()\n",
    "    print('Training time for this epoch: '+str(time4-time3))\n",
    "    avg_train_losses.append(np.mean(losses))\n",
    "    print('\\nEpoch : %d Loss : %.3f ' % (epoch, np.mean(losses)))\n",
    "\n",
    "    # Evaluate\n",
    "    clf.eval()\n",
    "    total = 0\n",
    "    correct = 0\n",
    "    losses = []\n",
    "    for batch_idx, (inputs, targets) in enumerate(testloader):\n",
    "        inputs, targets = Variable(inputs), Variable(targets)\n",
    "        outputs = clf(inputs.float())\n",
    "        _, predicted = torch.max(outputs.data, 1)\n",
    "        total += targets.size(0)\n",
    "        correct += predicted.eq(targets.data).cpu().sum()\n",
    "        loss = criterion(outputs, targets)\n",
    "        losses.append(loss.data)\n",
    "\n",
    "    avg_valid_losses.append(np.mean(losses))\n",
    "    test_acc = 100.*correct/total\n",
    "    valid_acc.append(test_acc)\n",
    "    print('Epoch : %d Test Acc : %.3f' % (epoch, test_acc))\n",
    "    print('Epoch : %d Test Loss : %.3f ' % (epoch, np.mean(losses)))\n",
    "\n",
    "    filename = 'best_model_7_vgg16_epoch_%d.mdl' %int(epoch)\n",
    "    torch.save(clf.state_dict(), filename)\n",
    "    \n",
    "    if test_acc > best_test_acc and not(stop):\n",
    "        print('UPDATE: NEW BEST MODEL')\n",
    "        filename = 'best_model_7_vgg16.mdl'\n",
    "        torch.save(clf.state_dict(), filename)\n",
    "        best_test_acc = test_acc\n",
    "        index_of_best = epoch\n",
    "    if test_acc <= last_acc + epsilon:\n",
    "        patience_iterator = patience_iterator + 1\n",
    "        print('Iterator for early stopping now at '+str(patience_iterator)+' since improvement of test accuracy = '+str((test_acc-last_acc).item())+' <= '+str(epsilon))\n",
    "    else:\n",
    "        patience_iterator = 0\n",
    "        print('Iterator for early stopping reset to 0 since improvement of test accuracy = '+str((test_acc-last_acc).item())+' > '+str(epsilon))\n",
    "    if patience_iterator == patience :\n",
    "        stop = True\n",
    "        print('Early stopping')\n",
    "\n",
    "    print('----------------------------------------------------------------------------------------------------------------------------')\n",
    "    last_acc = test_acc\n",
    "    clf.train()\n",
    "\n",
    "#Training time\n",
    "time2=dt.datetime.now()\n",
    "print('Training time for '+str(epoch)+' epochs: '+str(time2-time1))\n",
    "\n",
    "# visualize the loss as the network trained\n",
    "fig = plt.figure(figsize=(10,8))\n",
    "plt.plot(range(1,len(avg_train_losses)+1),avg_train_losses, label='Training Loss')\n",
    "plt.plot(range(1,len(avg_valid_losses)+1),avg_valid_losses,label='Validation Loss')\n",
    "\n",
    "# find position of lowest validation loss\n",
    "minposs = index_of_best+1 \n",
    "plt.axvline(minposs, linestyle='--', color='r',label='Early Stopping Checkpoint')\n",
    "\n",
    "plt.xlabel('Epochs')\n",
    "plt.ylabel('Loss')\n",
    "plt.ylim(0, 3.25) # consistent scale\n",
    "plt.xlim(0, len(avg_train_losses)+1) # consistent scale\n",
    "plt.title('Evolutions of the Training and Validation Cross-Entropy losses, and chosen model using Early Stopping')\n",
    "plt.grid(True)\n",
    "plt.legend()\n",
    "plt.tight_layout()\n",
    "plt.show()\n",
    "\n",
    "# visualize the loss as the network trained\n",
    "fig = plt.figure(figsize=(10,8))\n",
    "#plt.plot(range(1,len(avg_train_losses)+1),valid_acc, label='Training Loss')\n",
    "plt.plot(range(1,len(valid_acc)+1),valid_acc,label='Validation Accuracy')\n",
    "\n",
    "# find position of lowest validation loss\n",
    "minposs = index_of_best+1\n",
    "plt.axvline(minposs, linestyle='--', color='r',label='Early Stopping Checkpoint')\n",
    "\n",
    "plt.xlabel('Epochs')\n",
    "plt.ylabel('Accuracy')\n",
    "plt.ylim(0, 100) # consistent scale\n",
    "plt.xlim(0, len(avg_train_losses)+1) # consistent scale\n",
    "plt.title('Evolutions of the Training and Validation accuracies, and chosen model using Early Stopping ')\n",
    "plt.grid(True)\n",
    "plt.legend()\n",
    "plt.tight_layout()\n",
    "plt.show()\n",
    "\n",
    "lr_valid_acc.append(valid_acc)\n",
    "lr_train_loss.append(avg_train_losses)\n",
    "lr_valid_loss.append(avg_valid_losses)"
   ]
  },
  {
   "cell_type": "code",
   "execution_count": 7,
   "metadata": {
    "collapsed": false
   },
   "outputs": [],
   "source": [
    "torch.save({'epoch': epoch,'model_state_dict': clf.state_dict(),'optimizer_state_dict': optimizer.state_dict()}, './continue_runing.mdl')"
   ]
  },
  {
   "cell_type": "code",
   "execution_count": 10,
   "metadata": {
    "collapsed": false
   },
   "outputs": [],
   "source": [
    "state = torch.load('./continue_runing.mdl')\n",
    "clf = Classifier()\n",
    "optimizer = torch.optim.Adam(clf.parameters(), lr=1e-4)\n",
    "clf.load_state_dict(state['model_state_dict'])\n",
    "optimizer.load_state_dict(state['optimizer_state_dict'])\n",
    "clf.train()"
   ]
  },
  {
   "cell_type": "code",
   "execution_count": 11,
   "metadata": {
    "collapsed": false
   },
   "outputs": [
    {
     "data": {
      "text/plain": [
       "Classifier(\n",
       "  (conv): Sequential(\n",
       "    (0): Conv2d(1, 64, kernel_size=(3, 3), stride=(1, 1), padding=(1, 1))\n",
       "    (1): ReLU()\n",
       "    (2): Conv2d(64, 64, kernel_size=(3, 3), stride=(1, 1), padding=(1, 1))\n",
       "    (3): ReLU()\n",
       "    (4): MaxPool2d(kernel_size=(2, 2), stride=2, padding=0, dilation=1, ceil_mode=False)\n",
       "    (5): BatchNorm2d(64, eps=1e-05, momentum=0.1, affine=True, track_running_stats=True)\n",
       "    (6): Conv2d(64, 128, kernel_size=(3, 3), stride=(1, 1), padding=(1, 1))\n",
       "    (7): ReLU()\n",
       "    (8): Conv2d(128, 128, kernel_size=(3, 3), stride=(1, 1), padding=(1, 1))\n",
       "    (9): ReLU()\n",
       "    (10): MaxPool2d(kernel_size=(2, 2), stride=2, padding=0, dilation=1, ceil_mode=False)\n",
       "    (11): BatchNorm2d(128, eps=1e-05, momentum=0.1, affine=True, track_running_stats=True)\n",
       "    (12): Conv2d(128, 256, kernel_size=(3, 3), stride=(1, 1), padding=(1, 1))\n",
       "    (13): ReLU()\n",
       "    (14): Conv2d(256, 256, kernel_size=(3, 3), stride=(1, 1), padding=(1, 1))\n",
       "    (15): ReLU()\n",
       "    (16): Conv2d(256, 256, kernel_size=(3, 3), stride=(1, 1), padding=(1, 1))\n",
       "    (17): ReLU()\n",
       "    (18): MaxPool2d(kernel_size=(2, 2), stride=2, padding=0, dilation=1, ceil_mode=False)\n",
       "    (19): BatchNorm2d(256, eps=1e-05, momentum=0.1, affine=True, track_running_stats=True)\n",
       "    (20): Conv2d(256, 512, kernel_size=(3, 3), stride=(1, 1), padding=(1, 1))\n",
       "    (21): ReLU()\n",
       "    (22): Conv2d(512, 512, kernel_size=(3, 3), stride=(1, 1), padding=(1, 1))\n",
       "    (23): ReLU()\n",
       "    (24): Conv2d(512, 512, kernel_size=(3, 3), stride=(1, 1), padding=(1, 1))\n",
       "    (25): ReLU()\n",
       "    (26): MaxPool2d(kernel_size=(2, 2), stride=2, padding=0, dilation=1, ceil_mode=False)\n",
       "    (27): BatchNorm2d(512, eps=1e-05, momentum=0.1, affine=True, track_running_stats=True)\n",
       "    (28): Conv2d(512, 512, kernel_size=(3, 3), stride=(1, 1), padding=(1, 1))\n",
       "    (29): ReLU()\n",
       "    (30): Conv2d(512, 512, kernel_size=(3, 3), stride=(1, 1), padding=(1, 1))\n",
       "    (31): ReLU()\n",
       "    (32): Conv2d(512, 512, kernel_size=(3, 3), stride=(1, 1), padding=(1, 1))\n",
       "    (33): ReLU()\n",
       "    (34): MaxPool2d(kernel_size=(2, 2), stride=2, padding=0, dilation=1, ceil_mode=False)\n",
       "    (35): BatchNorm2d(512, eps=1e-05, momentum=0.1, affine=True, track_running_stats=True)\n",
       "  )\n",
       "  (clf): Sequential(\n",
       "    (0): Linear(in_features=8192, out_features=4096, bias=True)\n",
       "    (1): Linear(in_features=4096, out_features=4096, bias=True)\n",
       "    (2): Linear(in_features=4096, out_features=10, bias=True)\n",
       "  )\n",
       ")"
      ]
     },
     "execution_count": 11,
     "metadata": {},
     "output_type": "execute_result"
    }
   ],
   "source": [
    "clf.train()"
   ]
  },
  {
   "cell_type": "code",
   "execution_count": 12,
   "metadata": {
    "collapsed": false
   },
   "outputs": [
    {
     "data": {
      "image/png": "[encoded data removed]",
      "text/plain": [
       "<Figure size 1000x800 with 1 Axes>"
      ]
     },
     "metadata": {},
     "output_type": "display_data"
    },
    {
     "data": {
      "image/png": "[encoded data removed]",
      "text/plain": [
       "<Figure size 1000x800 with 1 Axes>"
      ]
     },
     "metadata": {},
     "output_type": "display_data"
    }
   ],
   "source": [
    "# visualize the loss as the network trained\n",
    "fig = plt.figure(figsize=(10,8))\n",
    "plt.plot(range(1,len(avg_train_losses)+1),avg_train_losses, label='Training Loss')\n",
    "plt.plot(range(1,len(avg_valid_losses)+1),avg_valid_losses,label='Validation Loss')\n",
    "\n",
    "# find position of lowest validation loss\n",
    "minposs = index_of_best+1  \n",
    "plt.axvline(minposs, linestyle='--', color='r',label='Early Stopping Checkpoint')\n",
    "\n",
    "plt.xlabel('Epochs')\n",
    "plt.ylabel('Loss')\n",
    "plt.ylim(0, 3.25) # consistent scale\n",
    "plt.xlim(0, len(avg_train_losses)+1) # consistent scale\n",
    "plt.title('Evolutions of the Training and Validation Cross-Entropy losses, and chosen model using Early Stopping ')\n",
    "plt.grid(True)\n",
    "plt.legend()\n",
    "plt.tight_layout()\n",
    "plt.show()\n",
    "\n",
    "# visualize the loss as the network trained\n",
    "fig = plt.figure(figsize=(10,8))\n",
    "#plt.plot(range(1,len(avg_train_losses)+1),valid_acc, label='Training Loss')\n",
    "plt.plot(range(1,len(valid_acc)+1),valid_acc,label='Validation Accuracy')\n",
    "\n",
    "# find position of lowest validation loss\n",
    "minposs = index_of_best+1  \n",
    "plt.axvline(minposs, linestyle='--', color='r',label='Early Stopping Checkpoint')\n",
    "\n",
    "plt.xlabel('Epochs')\n",
    "plt.ylabel('Accuracy')\n",
    "plt.ylim(0, 100) # consistent scale\n",
    "plt.xlim(0, len(avg_train_losses)+1) # consistent scale\n",
    "plt.title('Evolutions of the Training and Validation accuracies, and chosen model using Early Stopping ')\n",
    "plt.grid(True)\n",
    "plt.legend()\n",
    "plt.tight_layout()\n",
    "plt.show()"
   ]
  },
  {
   "cell_type": "markdown",
   "metadata": {},
   "source": [
    "# MAKE REAL PREDICTIONS"
   ]
  },
  {
   "cell_type": "code",
   "execution_count": 13,
   "metadata": {
    "collapsed": false
   },
   "outputs": [
    {
     "data": {
      "text/plain": [
       "Classifier(\n",
       "  (conv): Sequential(\n",
       "    (0): Conv2d(1, 64, kernel_size=(3, 3), stride=(1, 1), padding=(1, 1))\n",
       "    (1): ReLU()\n",
       "    (2): Conv2d(64, 64, kernel_size=(3, 3), stride=(1, 1), padding=(1, 1))\n",
       "    (3): ReLU()\n",
       "    (4): MaxPool2d(kernel_size=(2, 2), stride=2, padding=0, dilation=1, ceil_mode=False)\n",
       "    (5): BatchNorm2d(64, eps=1e-05, momentum=0.1, affine=True, track_running_stats=True)\n",
       "    (6): Conv2d(64, 128, kernel_size=(3, 3), stride=(1, 1), padding=(1, 1))\n",
       "    (7): ReLU()\n",
       "    (8): Conv2d(128, 128, kernel_size=(3, 3), stride=(1, 1), padding=(1, 1))\n",
       "    (9): ReLU()\n",
       "    (10): MaxPool2d(kernel_size=(2, 2), stride=2, padding=0, dilation=1, ceil_mode=False)\n",
       "    (11): BatchNorm2d(128, eps=1e-05, momentum=0.1, affine=True, track_running_stats=True)\n",
       "    (12): Conv2d(128, 256, kernel_size=(3, 3), stride=(1, 1), padding=(1, 1))\n",
       "    (13): ReLU()\n",
       "    (14): Conv2d(256, 256, kernel_size=(3, 3), stride=(1, 1), padding=(1, 1))\n",
       "    (15): ReLU()\n",
       "    (16): Conv2d(256, 256, kernel_size=(3, 3), stride=(1, 1), padding=(1, 1))\n",
       "    (17): ReLU()\n",
       "    (18): MaxPool2d(kernel_size=(2, 2), stride=2, padding=0, dilation=1, ceil_mode=False)\n",
       "    (19): BatchNorm2d(256, eps=1e-05, momentum=0.1, affine=True, track_running_stats=True)\n",
       "    (20): Conv2d(256, 512, kernel_size=(3, 3), stride=(1, 1), padding=(1, 1))\n",
       "    (21): ReLU()\n",
       "    (22): Conv2d(512, 512, kernel_size=(3, 3), stride=(1, 1), padding=(1, 1))\n",
       "    (23): ReLU()\n",
       "    (24): Conv2d(512, 512, kernel_size=(3, 3), stride=(1, 1), padding=(1, 1))\n",
       "    (25): ReLU()\n",
       "    (26): MaxPool2d(kernel_size=(2, 2), stride=2, padding=0, dilation=1, ceil_mode=False)\n",
       "    (27): BatchNorm2d(512, eps=1e-05, momentum=0.1, affine=True, track_running_stats=True)\n",
       "    (28): Conv2d(512, 512, kernel_size=(3, 3), stride=(1, 1), padding=(1, 1))\n",
       "    (29): ReLU()\n",
       "    (30): Conv2d(512, 512, kernel_size=(3, 3), stride=(1, 1), padding=(1, 1))\n",
       "    (31): ReLU()\n",
       "    (32): Conv2d(512, 512, kernel_size=(3, 3), stride=(1, 1), padding=(1, 1))\n",
       "    (33): ReLU()\n",
       "    (34): MaxPool2d(kernel_size=(2, 2), stride=2, padding=0, dilation=1, ceil_mode=False)\n",
       "    (35): BatchNorm2d(512, eps=1e-05, momentum=0.1, affine=True, track_running_stats=True)\n",
       "  )\n",
       "  (clf): Sequential(\n",
       "    (0): Linear(in_features=8192, out_features=4096, bias=True)\n",
       "    (1): Linear(in_features=4096, out_features=4096, bias=True)\n",
       "    (2): Linear(in_features=4096, out_features=10, bias=True)\n",
       "  )\n",
       ")"
      ]
     },
     "execution_count": 13,
     "metadata": {},
     "output_type": "execute_result"
    }
   ],
   "source": [
    "#Later to restore the best model\n",
    "# load the desired file ! \n",
    "clf.load_state_dict(torch.load('best_model_6_vgg16.mdl'))\n",
    "clf.eval()"
   ]
  },
  {
   "cell_type": "code",
   "execution_count": 14,
   "metadata": {
    "collapsed": false
   },
   "outputs": [],
   "source": [
    "#Make the final predictions\n",
    "pred = []\n",
    "for batch_idx, inputs in enumerate(validloader):\n",
    "    inputs = Variable(inputs)\n",
    "    outputs = clf(inputs.float())\n",
    "    _, predicted = torch.max(outputs.data, 1)\n",
    "    pred.extend(predicted.tolist())\n",
    "final_preds = pd.DataFrame()\n",
    "final_preds['Id'] = list(range(0,10000))\n",
    "final_preds['Label'] = pred\n",
    "final_preds.to_csv('Prediction_5.csv', index=False)"
   ]
  },
  {
   "cell_type": "code",
   "execution_count": null,
   "metadata": {
    "collapsed": true
   },
   "outputs": [],
   "source": []
  }
 ],
 "metadata": {
  "kernelspec": {
   "display_name": "Python 3",
   "language": "python",
   "name": "python3"
  },
  "language_info": {
   "codemirror_mode": {
    "name": "ipython",
    "version": 3
   },
   "file_extension": ".py",
   "mimetype": "text/x-python",
   "name": "python",
   "nbconvert_exporter": "python",
   "pygments_lexer": "ipython3",
   "version": "3.5.1"
  }
 },
 "nbformat": 4,
 "nbformat_minor": 0
}
